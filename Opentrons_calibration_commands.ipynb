{
 "cells": [
  {
   "cell_type": "markdown",
   "metadata": {},
   "source": [
    "# Viscous liquid transfer report\n",
    "\n",
    "The objective of this Jupyter is to guide the user through the process of obtaining the liquid handling report for OT2 pipettes for a specific viscous liquids. The process is based on a gravimetric method where the volume transferred with the OT2 pipettes is compared with the mass transferred during pipetting, allowing to compute a relative transfer error for each set of liquid handling parameters. "
   ]
  },
  {
   "cell_type": "code",
   "execution_count": null,
   "metadata": {},
   "outputs": [],
   "source": [
    "import os\n",
    "import json\n",
    "import opentrons.execute\n",
    "import pandas as pd\n",
    "import numpy as np\n",
    "import time"
   ]
  },
  {
   "cell_type": "code",
   "execution_count": 1,
   "metadata": {},
   "outputs": [],
   "source": [
    "def transfer_viscous_liquid(liquid, volume, source, destination, pipette, distance, new_tip=True):\n",
    "    \"\"\"Function to transfer viscous liquids using a OT2 robot (v2).\n",
    "    Args:\n",
    "        liquid: key in liquids_dict for liquid handling parameter definitions.\n",
    "        volume: target volume to be transferred.\n",
    "        source/destination: point object of OT2 that define place of aspiration and dispense respectively.\n",
    "        pipette: OT2 InstrumentContext object.\n",
    "        distance: height of liquid in source vial in mm\n",
    "        new_tip specifies: True if new tip is required for the transfer.\n",
    "    \"\"\"\n",
    "    if new_tip == True: pipette.pick_up_tip()\n",
    "    if 'P1' in str(pipette):\n",
    "        pipette_name = 'p1000'\n",
    "    elif 'P3'in str(pipette):\n",
    "        pipette_name = 'p300'\n",
    "    if pipette.has_tip == False:\n",
    "        raise Exception(\"Can't aspirate liquid with no tip\")\n",
    "    pipette.aspirate(volume, source.bottom(distance), rate = liquids_dict[liquid][pipette_name]['aspiration_rate']/pipette.flow_rate.aspirate)\n",
    "    time.sleep(liquids_dict[liquid][pipette_name]['delay_aspirate'])\n",
    "    if liquids_dict[liquid][pipette_name]['touch_tip_aspirate'] == True:\n",
    "        pipette.touch_tip()\n",
    "    pipette.dispense(volume, destination.top(-5), rate = liquids_dict[liquid][pipette_name]['dispense_rate']/pipette.flow_rate.dispense)\n",
    "    time.sleep(liquids_dict[liquid][pipette_name]['delay_dispense'])\n",
    "    if liquids_dict[liquid][pipette_name]['blow_out_rate'] > 0:\n",
    "        pipette.flow_rate.blow_out = liquids_dict[liquid][pipette_name]['blow_out_rate']\n",
    "        pipette.blow_out()\n",
    "        pipette.flow_rate.blow_out = pipette.flow_rate.aspirate \n",
    "        time.sleep(liquids_dict[liquid][pipette_name]['delay_blow_out'])\n",
    "    if liquids_dict[liquid][pipette_name]['touch_tip_dispense'] == True:\n",
    "        pipette.touch_tip()   \n",
    "    if new_tip == True:\n",
    "        pipette.drop_tip()"
   ]
  },
  {
   "cell_type": "code",
   "execution_count": null,
   "metadata": {},
   "outputs": [],
   "source": [
    "#Initialization of API and deck setup\n",
    "protocol = opentrons.execute.get_protocol_api('2.11')\n",
    "protocol.home()\n",
    "tiprack_1000 = protocol.load_labware('opentrons_96_tiprack_1000ul', 11)\n",
    "tiprack_300=  protocol.load_labware('opentrons_96_tiprack_300ul', 8)\n",
    "pipettes = {'p1000' : protocol.load_instrument('p1000_single_gen2', 'left', tip_racks=[tiprack_1000]), 'p300' : protocol.load_instrument('p300_multi_gen2', 'right', tip_racks=[tiprack_300])}\n",
    "source = protocol.load_labware('amdm_12_wellplate_30000ul',6) "
   ]
  },
  {
   "cell_type": "code",
   "execution_count": null,
   "metadata": {},
   "outputs": [],
   "source": [
    "#Stablish starting pipette tips locations\n",
    "pipettes['p1000'].starting_tip = tiprack_1000.well('B7')\n",
    "pipettes['p300'].starting_tip = tiprack_300.well('B9')"
   ]
  },
  {
   "cell_type": "markdown",
   "metadata": {},
   "source": [
    "# Gravimetric calibration of viscous liquid transfer\n",
    "\n",
    "The following cells contain the code required to implement the gravimetric analysis of volume transfer of a specific viscous liquid. User only needs to update dictionary values for liquid handling parameters, input the target volume, density of the liquid and mass of vials before and after a dispense."
   ]
  },
  {
   "cell_type": "code",
   "execution_count": null,
   "metadata": {},
   "outputs": [],
   "source": [
    "#Stablish liquid and initial height of liquid on the source vial\n",
    "liquid = 'Viscosity_std_1275'\n",
    "density = 0.8736\n",
    "liquid_level = 53"
   ]
  },
  {
   "cell_type": "code",
   "execution_count": null,
   "metadata": {},
   "outputs": [],
   "source": [
    "#Create DataFrame to record measurements\n",
    "df = pd.DataFrame(columns = ['liquid', 'pipette', 'volume', 'aspiration_rate', 'dispense_rate','blow_out_rate', 'delay_aspirate',  'delay_dispense', 'delay_blow_out','touch_tip_aspirate', 'touch_tip_dispense', 'density','mi', 'mf', 'm', '%error', 'Comment'])\n",
    "df = df.astype({'liquid':str,'pipette':str,\"touch_tip_aspirate\":bool,\"touch_tip_dispense\":bool,'Comment':str})"
   ]
  },
  {
   "cell_type": "markdown",
   "metadata": {},
   "source": [
    "Update liquid handling parameters "
   ]
  },
  {
   "cell_type": "code",
   "execution_count": null,
   "metadata": {},
   "outputs": [],
   "source": [
    "liquids_dict = {\n",
    "    liquid: {\n",
    "        \"p1000\": {\n",
    "            \"aspiration_rate\": 4.489998,\n",
    "            \"dispense_rate\": 10.881212,\n",
    "            \"blow_out_rate\" : 0, \n",
    "            \"delay_aspirate\" : 5, \n",
    "            \"delay_dispense\" : 5, \n",
    "            \"delay_blow_out\" : 0,\n",
    "            \"touch_tip_aspirate\": True, \n",
    "            \"touch_tip_dispense\" : False,\n",
    "        }  \n",
    "    }\n",
    "}"
   ]
  },
  {
   "cell_type": "code",
   "execution_count": null,
   "metadata": {},
   "outputs": [],
   "source": [
    "pipette = 'p1000'\n",
    "volume = 1000 #FILLIN\n",
    "if pipettes[pipette].has_tip == False:\n",
    "    pipettes[pipette].pick_up_tip()\n",
    "transfer_viscous_liquid(liquid, volume, source.wells_by_name()['A1'], source.wells_by_name()['A1'], pipettes[pipette], liquid_level-15, new_tip=False)\n",
    "\n",
    "pipettes['p1000'].blow_out(location = source.wells_by_name()['A1'].top())\n",
    "pipettes['p1000'].home_plunger()\n",
    "protocol.delay(seconds=10)\n",
    "pipettes['p1000'].blow_out(location = source.wells_by_name()['A1'].top())\n",
    "pipettes['p1000'].touch_tip(location = source.wells_by_name()['A1'])\n",
    "\n",
    "pipettes['p1000'].home_plunger()\n",
    "protocol.delay(seconds=10)\n",
    "pipettes['p1000'].blow_out(location = source.wells_by_name()['A1'].top())\n",
    "pipettes['p1000'].touch_tip(location = source.wells_by_name()['A1'])\n",
    "\n",
    "pipettes['p1000'].home_plunger()\n",
    "protocol.delay(seconds=10)\n",
    "pipettes['p1000'].blow_out(location = source.wells_by_name()['A1'].top())\n",
    "pipettes['p1000'].touch_tip(location = source.wells_by_name()['A1'])\n",
    "pipettes['p1000'].move_to(source.wells_by_name()['A1'].top())"
   ]
  },
  {
   "cell_type": "markdown",
   "metadata": {},
   "source": [
    "Transfer viscous liquids, input pipette name (pipette), desired volume (volume) to be dispensed in ul, liquid dictionary key string (liquid), density (density) and initial vial mass (mi). The code will register the liquid handling parameters used into the DataFrame."
   ]
  },
  {
   "cell_type": "code",
   "execution_count": null,
   "metadata": {},
   "outputs": [],
   "source": [
    "pipette = 'p1000'\n",
    "volume = 300 #FILLIN\n",
    "mi = mf #FILLIN\n",
    "\n",
    "transfer_viscous_liquid(liquid, volume, source.wells_by_name()['A1'], source.wells_by_name()['A4'], pipettes[pipette], liquid_level-15, new_tip=False)\n",
    "pipettes[pipette].move_to(source.wells_by_name()['A1'].top())\n",
    "df = df.append(liquids_dict[liquid][pipette], ignore_index = True)\n",
    "\n",
    "for i in range(2):\n",
    "    pipettes['p1000'].blow_out(location = source.wells_by_name()['A1'].top())\n",
    "    pipettes['p1000'].home_plunger()\n",
    "    protocol.delay(seconds=5)\n",
    "    pipettes['p1000'].blow_out(location = source.wells_by_name()['A1'].top())\n",
    "    pipettes['p1000'].touch_tip(location = source.wells_by_name()['A1'])\n",
    "\n",
    "    pipettes['p1000'].home_plunger()\n",
    "    protocol.delay(seconds=5)\n",
    "    pipettes['p1000'].blow_out(location = source.wells_by_name()['A1'].top())\n",
    "    pipettes['p1000'].touch_tip(location = source.wells_by_name()['A1'])\n",
    "\n",
    "    pipettes['p1000'].home_plunger()\n",
    "    protocol.delay(seconds=5)\n",
    "    pipettes['p1000'].blow_out(location = source.wells_by_name()['A1'].top())\n",
    "    pipettes['p1000'].touch_tip(location = source.wells_by_name()['A1'])\n",
    "    pipettes['p1000'].move_to(source.wells_by_name()['A1'].top())\n",
    "    protocol.delay(seconds=5)"
   ]
  },
  {
   "cell_type": "markdown",
   "metadata": {},
   "source": [
    " Input mass of vial after transfer (mf). Code will calculate the relative error of transfer"
   ]
  },
  {
   "cell_type": "code",
   "execution_count": null,
   "metadata": {},
   "outputs": [],
   "source": [
    "mf = 37.9461\n",
    "\n",
    "m = mf-mi\n",
    "error = (m-density*volume/1000)/(density/1000*volume)*100\n",
    "df.iloc[-1,2] = volume\n",
    "df.iloc[-1, 0] = liquid\n",
    "df.iloc[-1, 1] = pipette\n",
    "df.iloc[-1,-6] = density\n",
    "df.iloc[-1,-5] = mi\n",
    "df.iloc[-1,-4] = mf\n",
    "df.iloc[-1, -3] = m\n",
    "df.iloc[-1,-2]= error"
   ]
  },
  {
   "cell_type": "code",
   "execution_count": null,
   "metadata": {},
   "outputs": [],
   "source": [
    "#Update liquid level - if lower than 15, update\n",
    "liquid_level = liquid_level - 2*volume/1000\n",
    "print(liquid_level)"
   ]
  },
  {
   "cell_type": "code",
   "execution_count": null,
   "metadata": {
    "scrolled": false
   },
   "outputs": [],
   "source": [
    "#Observe error made\n",
    "df"
   ]
  },
  {
   "cell_type": "markdown",
   "metadata": {},
   "source": [
    "Repeat a total a ten times for each of  the following volumes 1000, 500 and 300 "
   ]
  },
  {
   "cell_type": "code",
   "execution_count": null,
   "metadata": {
    "scrolled": true
   },
   "outputs": [],
   "source": [
    "df.to_csv('liquid_'+str(liquid)+'_calibration_optimized.csv', index = False)"
   ]
  },
  {
   "cell_type": "markdown",
   "metadata": {},
   "source": [
    "## Auxiliary code"
   ]
  },
  {
   "cell_type": "code",
   "execution_count": null,
   "metadata": {},
   "outputs": [],
   "source": [
    "#drop tip in the bin\n",
    "pipettes['p1000'].drop_tip()\n",
    "pipettes['p1000'].home()"
   ]
  },
  {
   "cell_type": "code",
   "execution_count": null,
   "metadata": {},
   "outputs": [],
   "source": [
    "#pick up a new tip\n",
    "pipettes['p1000'].pick_up_tip()"
   ]
  },
  {
   "cell_type": "code",
   "execution_count": null,
   "metadata": {},
   "outputs": [],
   "source": [
    "#remove residue from pipette tip\n",
    "pipettes['p1000'].blow_out(location = source.wells_by_name()['A1'].top())\n",
    "pipettes['p1000'].home_plunger()\n",
    "pipettes['p1000'].blow_out(location = source.wells_by_name()['A1'].top())\n",
    "pipettes['p1000'].touch_tip(location = source.wells_by_name()['A1'])\n",
    "\n",
    "pipettes['p1000'].home_plunger()\n",
    "pipettes['p1000'].blow_out(location = source.wells_by_name()['A1'].top())\n",
    "pipettes['p1000'].touch_tip(location = source.wells_by_name()['A1'])\n",
    "\n",
    "pipettes['p1000'].home_plunger()\n",
    "\n",
    "pipettes['p1000'].blow_out(location = source.wells_by_name()['A1'].top())\n",
    "pipettes['p1000'].touch_tip(location = source.wells_by_name()['A1'])\n",
    "pipettes['p1000'].move_to(source.wells_by_name()['A1'].top())\n"
   ]
  }
 ],
 "metadata": {
  "kernelspec": {
   "display_name": "Python 3",
   "language": "python",
   "name": "python3"
  },
  "language_info": {
   "codemirror_mode": {
    "name": "ipython",
    "version": 3
   },
   "file_extension": ".py",
   "mimetype": "text/x-python",
   "name": "python",
   "nbconvert_exporter": "python",
   "pygments_lexer": "ipython3",
   "version": "3.9.13"
  }
 },
 "nbformat": 4,
 "nbformat_minor": 2
}
