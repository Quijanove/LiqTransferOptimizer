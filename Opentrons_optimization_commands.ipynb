{
 "cells": [
  {
   "cell_type": "markdown",
   "metadata": {},
   "source": [
    "# Test viscous liquid transfer\n",
    "\n",
    "The objective of this Jupyter is to guide the user through the process of obtaining the liquid handling parameters for OT2 pippetes that accutately transfer volumes of viscous liquids. The process is based on a gravimetric method where the volume transfered with the OT2 pipettes is compared with the mass transfered during pipetting, allowing to compute a relative transfer error for each set of liquid handling parameters. The liquid handling parameters are tuned by a multi-objective Bayesian Optimization algorithm to minimize the relative transfer error and time of transfer.\n"
   ]
  },
  {
   "cell_type": "markdown",
   "metadata": {},
   "source": [
    "## Initialization of python API, transfer function and OT2 Deck Setup"
   ]
  },
  {
   "cell_type": "code",
   "execution_count": null,
   "metadata": {},
   "outputs": [],
   "source": [
    "#Import relevant python packages\n",
    "import os\n",
    "import json\n",
    "import opentrons.execute\n",
    "import pandas as pd\n",
    "import numpy as np\n",
    "import time\n"
   ]
  },
  {
   "cell_type": "code",
   "execution_count": null,
   "metadata": {},
   "outputs": [],
   "source": [
    "def transfer_viscous_liquid(liquid, volume, source, destination, pipette, protocol, distance, new_tip=True):\n",
    "    \"\"\"Function to transfer viscous liquids using a OT2 robot (v2).\n",
    "    Args:\n",
    "        liquid: key in liquids_dict for liquid handling parameter definitions.\n",
    "        volume: target volume to be transfered.\n",
    "        source/destination: point object of OT2 that define place of aspiration and dispense respectiveley.\n",
    "        pipette: OT2 InstrumentContext object.\n",
    "        protocol: ProtocolContext object. \n",
    "        distance: height of liquid in source vial in mm\n",
    "        new_tip specifies: True if new tip is required for the transfer.\n",
    "    \"\"\"\n",
    "    if new_tip == True: pipette.pick_up_tip()\n",
    "    if 'P1' in str(pipette):\n",
    "        pipette_name = 'p1000'\n",
    "    elif 'P3'in str(pipette):\n",
    "        pipette_name = 'p300'\n",
    "    if pipette.has_tip == False:\n",
    "        raise Exception(\"Can't aspirate liquid with no tip\")\n",
    "    pipette.aspirate(volume, source.bottom(distance), rate = liquids_dict[liquid][pipette_name]['aspiration_rate']/pipette.flow_rate.aspirate)\n",
    "    protocol.delay(seconds =  liquids_dict[liquid][pipette_name]['delay_aspirate'])\n",
    "    if liquids_dict[liquid][pipette_name]['touch_tip_aspirate'] == True:\n",
    "        pipette.touch_tip()\n",
    "    pipette.dispense(volume, destination.top(-5), rate = liquids_dict[liquid][pipette_name]['dispense_rate']/pipette.flow_rate.dispense)\n",
    "    protocol.delay(seconds = liquids_dict[liquid][pipette_name]['delay_dispense'])\n",
    "    if liquids_dict[liquid][pipette_name]['blow_out_rate'] > 0:\n",
    "        pipette.flow_rate.blow_out = liquids_dict[liquid][pipette_name]['blow_out_rate']\n",
    "        pipette.blow_out()\n",
    "        pipette.flow_rate.blow_out = pipette.flow_rate.aspirate \n",
    "        protocol.delay(seconds = liquids_dict[liquid][pipette_name]['delay_blow_out'])\n",
    "    if liquids_dict[liquid][pipette_name]['touch_tip_dispense'] == True:\n",
    "        pipette.touch_tip()   \n",
    "    if new_tip == True:\n",
    "        pipette.drop_tip()\n",
    "\n",
    "\n",
    "def ccf_parameters(liquid,liquids_dict, bounds=[0.1,1.25]):\n",
    "    \"\"\"\n",
    "    Function to create dictionary containing the values for aspiration and dispense rates\n",
    "    used during the exploration stage \n",
    "    Args:\n",
    "        liquid (str): Name of liquid to be tested \n",
    "        liquids_dict (dict): Dictionary cotnaining the liquid handling parameters of tested liquid\n",
    "        bounds (list): List composed of the upper and lower factors to calculate the mihimum and \n",
    "        maximum values for the prametric space\n",
    "    Returns:\n",
    "        parameters_dict (dict): Dictionary containing the liquid handing parameters to be tested during\n",
    "        the exploration step\n",
    "    \"\"\"\n",
    " \n",
    "    aspiration_rates = [liquids_dict[liquid]['p1000'][\"aspiration_rate\"]*bounds[1],liquids_dict[liquid]['p1000'][\"aspiration_rate\"]*bounds[1],liquids_dict[liquid]['p1000'][\"aspiration_rate\"]*bounds[0],liquids_dict[liquid]['p1000'][\"aspiration_rate\"]*bounds[0]]\n",
    "    dispense_rates =  [liquids_dict[liquid]['p1000'][\"dispense_rate\"]*bounds[1],liquids_dict[liquid]['p1000'][\"dispense_rate\"]*bounds[0],liquids_dict[liquid]['p1000'][\"dispense_rate\"]*bounds[1],liquids_dict[liquid]['p1000'][\"dispense_rate\"]*bounds[0]] \n",
    "    parameters_dict = {\n",
    "        \"aspiration_rate\": aspiration_rates, \n",
    "        \"dispense_rate\": dispense_rates,\n",
    "    }\n",
    "     \n",
    "   \n",
    "    return parameters_dict\n",
    "\n",
    "\n",
    "def update_dict(liquid, new_parameters_dict,repeat, liquids_dict):\n",
    "    \"\"\"Function that updates the liquid handling parameters contained in a dictionary with each transfer \n",
    "    performed during the exploration step\n",
    "    Args: \n",
    "        liquid (str): Name of liquid to be tested \n",
    "        new_parameters (dict): Dictionary generated with ccf_parameters\n",
    "        repeat (int: Integer ranging from 1-4 that poitns to the iteration number in the exploration step\n",
    "        to be tested\n",
    "        liquids_dict (dict): Dictionary cotnaining the liquid handling parameters of tested liquid\n",
    "    \"\"\"\n",
    "\n",
    "    liquids_dict[liquid]['p1000'][\"aspiration_rate\"] = new_parameters_dict[\"aspiration_rate\"][repeat-1]\n",
    "    liquids_dict[liquid]['p1000'][\"dispense_rate\"] = new_parameters_dict[\"dispense_rate\"][repeat-1]   \n",
    "    liquids_dict[liquid]['p1000'][\"delay_aspirate\"] = new_parameters_dict[\"delay_aspirate\"][repeat-1]\n",
    "    liquids_dict[liquid]['p1000'][\"delay_dispense\"] = new_parameters_dict[\"delay_dispense\"][repeat-1]    "
   ]
  },
  {
   "cell_type": "code",
   "execution_count": null,
   "metadata": {
    "scrolled": true
   },
   "outputs": [],
   "source": [
    "#Initialization of API and deck setup\n",
    "protocol = opentrons.execute.get_protocol_api('2.11')\n",
    "protocol.home()\n",
    "tiprack_1000 = protocol.load_labware('opentrons_96_tiprack_1000ul', 11)\n",
    "tiprack_300=  protocol.load_labware('opentrons_96_tiprack_300ul', 8)\n",
    "pipettes = {'p1000' : protocol.load_instrument('p1000_single_gen2', 'left', tip_racks=[tiprack_1000]), 'p300' : protocol.load_instrument('p300_multi_gen2', 'right', tip_racks=[tiprack_300])}\n",
    "source = protocol.load_labware('amdm_12_wellplate_30000ul',6) \n",
    "# destination = protocol.load_labware('amdm_12_wellplate_30000ul',6)"
   ]
  },
  {
   "cell_type": "code",
   "execution_count": null,
   "metadata": {},
   "outputs": [],
   "source": [
    "#Stablish starting pippette tips locations\n",
    "pipettes['p1000'].starting_tip = tiprack_1000.well('H6')\n",
    "pipettes['p300'].starting_tip = tiprack_300.well('F10')\n"
   ]
  },
  {
   "cell_type": "code",
   "execution_count": null,
   "metadata": {},
   "outputs": [],
   "source": [
    "#Stablish initial height of liquid on the source vial\n",
    "liquid_level = 51"
   ]
  },
  {
   "cell_type": "markdown",
   "metadata": {},
   "source": [
    "## Viscous liquid protocol: Coarse approximation of pipetting parameters\n",
    "\n",
    "The first step is to obtain approximate values of aspiration and dispense rates that can be used to initialize the ;iqiid transfer such as aspiration and dispense rates. "
   ]
  },
  {
   "cell_type": "code",
   "execution_count": null,
   "metadata": {},
   "outputs": [],
   "source": [
    "liquid = 'Viscosity_std_1275'\n",
    "density = 0.8736\n",
    "pipette = 'p1000'\n",
    "volume = 1000\n"
   ]
  },
  {
   "cell_type": "code",
   "execution_count": null,
   "metadata": {},
   "outputs": [],
   "source": [
    "#This commands will aspirate 1000ul liquid at standard flow_rate.aspirate of pippette. A timer well be started just before aspiration starts\n",
    "pipettes[pipette].pick_up_tip()\n",
    "pipettes[pipette].move_to(source.wells_by_name()['A1'].bottom(liquid_level-15))\n",
    "start = time.time()\n",
    "pipettes[pipette].aspirate(volume,rate = 1)"
   ]
  },
  {
   "cell_type": "code",
   "execution_count": null,
   "metadata": {},
   "outputs": [],
   "source": [
    "#Run this cell when no further flow of liquid into the pipette tip is observed. Calculates an approximate flow rate for \n",
    "#aspiration\n",
    "finish = time.time()\n",
    "t_aspirate = finish-start\n",
    "flow_rate_aspirate = volume/t_aspirate\n",
    "flow_rate_aspirate"
   ]
  },
  {
   "cell_type": "code",
   "execution_count": null,
   "metadata": {},
   "outputs": [],
   "source": [
    "#Dispense volume \n",
    "pipettes[pipette].dispense(volume,rate = (flow_rate_aspirate/2)/pipettes[pipette].flow_rate.aspirate)"
   ]
  },
  {
   "cell_type": "code",
   "execution_count": null,
   "metadata": {},
   "outputs": [],
   "source": [
    "#This command will clear out remaining liquid in the tip if the dispense was incomplete.\n",
    "pipettes[pipette].move_to(source.wells_by_name()['A1'].top())\n",
    "protocol.delay(5)\n",
    "pipettes[pipette].home_plunger()\n",
    "protocol.delay(seconds=10)\n",
    "pipettes[pipette].blow_out(location = source.wells_by_name()['A1'].top())\n",
    "pipettes[pipette].touch_tip(location = source.wells_by_name()['A1'])\n",
    "\n",
    "pipettes[pipette].home_plunger()\n",
    "protocol.delay(seconds=10)\n",
    "pipettes[pipette].blow_out(location = source.wells_by_name()['A1'].top())\n",
    "pipettes[pipette].touch_tip(location = source.wells_by_name()['A1'])\n",
    "\n",
    "pipettes[pipette].home_plunger()\n",
    "protocol.delay(seconds=10)\n",
    "pipettes[pipette].blow_out(location = source.wells_by_name()['A1'].top())\n",
    "pipettes[pipette].touch_tip(location = source.wells_by_name()['A1'])\n",
    "pipettes[pipette].move_to(source.wells_by_name()['A1'].top())\n"
   ]
  },
  {
   "cell_type": "code",
   "execution_count": null,
   "metadata": {},
   "outputs": [],
   "source": [
    "#New dataframe\n",
    "df = pd.DataFrame(columns = ['liquid', 'pipette', 'volume', 'aspiration_rate', 'dispense_rate','blow_out_rate', 'delay_aspirate',  'delay_dispense', 'delay_blow_out','touch_tip_aspirate', 'touch_tip_dispense', 'density', 'time','mi', 'mf', 'm', '%error', 'Transfer_Observation', 'Comment'])\n",
    "df = df.astype({'liquid':str,'pipette':str,\"touch_tip_aspirate\":bool,\"touch_tip_dispense\":bool,'Transfer_Observation':str,'Comment':str})\n"
   ]
  },
  {
   "cell_type": "code",
   "execution_count": null,
   "metadata": {},
   "outputs": [],
   "source": [
    "liquids_dict = {\n",
    "  liquid :{\n",
    "        \"p1000\": {\n",
    "            \"aspiration_rate\": flow_rate_aspirate, \n",
    "            \"dispense_rate\": flow_rate_aspirate,\n",
    "            \"blow_out_rate\" : 0, \n",
    "            \"delay_aspirate\" : 5, \n",
    "            \"delay_dispense\" : 5, \n",
    "            \"delay_blow_out\" : 0,\n",
    "            \"touch_tip_aspirate\": True, \n",
    "            \"touch_tip_dispense\" : False,\n",
    "            },\n",
    "\n",
    "        \"p300\": {\n",
    "            \"aspiration_rate\": 25 , \n",
    "            \"dispense_rate\": 12.5, \n",
    "            \"blow_out_rate\" : 0 , \n",
    "            \"delay_aspirate\" : 3, \n",
    "            \"delay_dispense\" : 3, \n",
    "            \"delay_blow_out\" : 0,\n",
    "            \"touch_tip_aspirate\": True, \n",
    "            \"touch_tip_dispense\" : False,\n",
    "        }\n",
    "    }\n",
    "\n",
    "}\n",
    "print(liquids_dict[liquid][pipette])"
   ]
  },
  {
   "cell_type": "markdown",
   "metadata": {},
   "source": [
    "Gravimetric test with approximated flow rate obtained during initialization"
   ]
  },
  {
   "cell_type": "code",
   "execution_count": null,
   "metadata": {},
   "outputs": [],
   "source": [
    "pipette = 'p1000'\n",
    "volume = 1000\n",
    "mi = 21.3625\n",
    "if pipettes[pipette].has_tip == False:\n",
    "    pipettes[pipette].pick_up_tip()\n",
    "start = time.time()\n",
    "transfer_viscous_liquid(liquid, volume, source.wells_by_name()['A1'], source.wells_by_name()['A4'], pipettes[pipette], protocol, liquid_level-15, new_tip=False)\n",
    "pipettes[pipette].move_to(source.wells_by_name()['A1'].top())\n",
    "df = df.append(liquids_dict[liquid][pipette], ignore_index = True)\n",
    "finish = time.time()\n",
    "time_m = finish - start"
   ]
  },
  {
   "cell_type": "code",
   "execution_count": null,
   "metadata": {},
   "outputs": [],
   "source": [
    "mf = 29.6300\n",
    "m = mf-mi\n",
    "error = (m-density*volume/1000)/(density/1000*volume)*100\n",
    "df.iloc[-1,-7] = time_m\n",
    "df.iloc[-1,2] = volume\n",
    "df.iloc[-1, 0] = liquid\n",
    "df.iloc[-1, 1] = pipette\n",
    "df.iloc[-1,-8] = density\n",
    "df.iloc[-1,-6] = mi\n",
    "df.iloc[-1,-5] = mf\n",
    "df.iloc[-1, -4] = m\n",
    "df.iloc[-1,-3]= error\n"
   ]
  },
  {
   "cell_type": "code",
   "execution_count": null,
   "metadata": {},
   "outputs": [],
   "source": [
    "#Update liquid level\n",
    "liquid_level = liquid_level - 2*volume/1000"
   ]
  },
  {
   "cell_type": "code",
   "execution_count": null,
   "metadata": {},
   "outputs": [],
   "source": [
    "#Observe error made\n",
    "df"
   ]
  },
  {
   "cell_type": "code",
   "execution_count": null,
   "metadata": {},
   "outputs": [],
   "source": [
    "if -5<df.iloc[-1,-3]<5:\n",
    "    value = 'Within tolerance'\n",
    "elif df.iloc[-1,-3]>5:\n",
    "    value = 'Excess aspiration and dispense'\n",
    "else:\n",
    "    value = 'Incomplete aspiration and dispense'"
   ]
  },
  {
   "cell_type": "code",
   "execution_count": null,
   "metadata": {},
   "outputs": [],
   "source": [
    "#Assign category of observation of transfer such as Incomplete Dispense, Incomplete Aspiration, \n",
    "#Incomplete Aspiration and Dispense, Complete Transfer. \n",
    "#Comment if any unexpected exprimental mistakes or changes were performed that have to be taken into account.\n",
    "df.iloc[-1,-2]= value\n",
    "df.iloc[-1,-1]= ''"
   ]
  },
  {
   "cell_type": "code",
   "execution_count": null,
   "metadata": {},
   "outputs": [],
   "source": [
    "pipettes['p1000'].home_plunger()\n",
    "protocol.delay(seconds=10)\n",
    "pipettes['p1000'].blow_out(location = source.wells_by_name()['A1'].top())\n",
    "pipettes['p1000'].touch_tip(location = source.wells_by_name()['A1'])\n",
    "\n",
    "pipettes['p1000'].home_plunger()\n",
    "protocol.delay(seconds=10)\n",
    "pipettes['p1000'].blow_out(location = source.wells_by_name()['A1'].top())\n",
    "pipettes['p1000'].touch_tip(location = source.wells_by_name()['A1'])\n",
    "\n",
    "pipettes['p1000'].home_plunger()\n",
    "protocol.delay(seconds=10)\n",
    "pipettes['p1000'].blow_out(location = source.wells_by_name()['A1'].top())\n",
    "pipettes['p1000'].touch_tip(location = source.wells_by_name()['A1'])\n",
    "pipettes['p1000'].move_to(source.wells_by_name()['A1'].top())\n"
   ]
  },
  {
   "cell_type": "markdown",
   "metadata": {},
   "source": [
    "Continue with gravimetric transfers of exploration step, run the following code until repeat = 4"
   ]
  },
  {
   "cell_type": "code",
   "execution_count": null,
   "metadata": {},
   "outputs": [],
   "source": [
    "repeat = 1\n",
    "new_parameters = ccf_parameters(liquid, liquids_dict=liquids_dict)\n",
    "print(new_parameters)"
   ]
  },
  {
   "cell_type": "code",
   "execution_count": null,
   "metadata": {},
   "outputs": [],
   "source": [
    "update_dict(liquid, new_parameters,repeat, liquids_dict)\n",
    "repeat+=1\n",
    "print(liquids_dict[liquid][pipette])"
   ]
  },
  {
   "cell_type": "code",
   "execution_count": null,
   "metadata": {},
   "outputs": [],
   "source": [
    "pipette = 'p1000'\n",
    "volume  = 300\n",
    "mi = mf\n",
    "if pipettes[pipette].has_tip == False:\n",
    "    pipettes[pipette].pick_up_tip()\n",
    "start = time.time()\n",
    "transfer_viscous_liquid(liquid, volume, source.wells_by_name()['A1'], source.wells_by_name()['A4'], pipettes[pipette], protocol, liquid_level-15, new_tip=False)\n",
    "pipettes[pipette].move_to(source.wells_by_name()['A1'].top())\n",
    "df = df.append(liquids_dict[liquid][pipette], ignore_index = True)\n",
    "finish = time.time()\n",
    "time_m = finish - start"
   ]
  },
  {
   "cell_type": "code",
   "execution_count": null,
   "metadata": {},
   "outputs": [],
   "source": [
    "mf = 30.\n",
    "m = mf-mi\n",
    "error = (m-density*volume/1000)/(density/1000*volume)*100\n",
    "df.iloc[-1,-7] = time_m\n",
    "df.iloc[-1,2] = volume\n",
    "df.iloc[-1, 0] = liquid\n",
    "df.iloc[-1, 1] = pipette\n",
    "df.iloc[-1,-8] = density\n",
    "df.iloc[-1,-6] = mi\n",
    "df.iloc[-1,-5] = mf\n",
    "df.iloc[-1, -4] = m\n",
    "df.iloc[-1,-3]= error\n"
   ]
  },
  {
   "cell_type": "code",
   "execution_count": null,
   "metadata": {},
   "outputs": [],
   "source": [
    "#Update liquid level\n",
    "liquid_level = liquid_level - 2*volume/1000\n",
    "liquid_level"
   ]
  },
  {
   "cell_type": "code",
   "execution_count": null,
   "metadata": {
    "scrolled": false
   },
   "outputs": [],
   "source": [
    "#Observe error made\n",
    "df"
   ]
  },
  {
   "cell_type": "code",
   "execution_count": null,
   "metadata": {},
   "outputs": [],
   "source": [
    "#Assign category of observation of transfer such as Incomplete Dispense, Incomplete Aspiration, \n",
    "#Incomplete Aspiration and Dispense, Complete Transfer. \n",
    "#Comment if any unexpected exprimental mistakes or changes were performed that have to be taken into account.\n",
    "df.iloc[-1,-2]= 'Excess aspiration and dispense'\n",
    "df.iloc[-1,-1]= ''"
   ]
  },
  {
   "cell_type": "code",
   "execution_count": null,
   "metadata": {},
   "outputs": [],
   "source": [
    "pipettes['p1000'].home_plunger()\n",
    "protocol.delay(seconds=10)\n",
    "pipettes['p1000'].blow_out(location = source.wells_by_name()['A1'].top())\n",
    "pipettes['p1000'].touch_tip(location = source.wells_by_name()['A1'])\n",
    "\n",
    "pipettes['p1000'].home_plunger()\n",
    "protocol.delay(seconds=10)\n",
    "pipettes['p1000'].blow_out(location = source.wells_by_name()['A1'].top())\n",
    "pipettes['p1000'].touch_tip(location = source.wells_by_name()['A1'])\n",
    "\n",
    "\n",
    "pipettes['p1000'].home_plunger()\n",
    "protocol.delay(seconds=10)\n",
    "pipettes['p1000'].blow_out(location = source.wells_by_name()['A1'].top())\n",
    "pipettes['p1000'].touch_tip(location = source.wells_by_name()['A1'])\n",
    "pipettes['p1000'].move_to(source.wells_by_name()['A1'].top())\n"
   ]
  },
  {
   "cell_type": "markdown",
   "metadata": {},
   "source": [
    "# ML guided optimization for gravimetric calibration of viscous liquid transfer\n",
    "\n",
    "The following cells contain the code required to implemenet the gravimetric analysis of volume transfer of a specific viscousl iquid. User only needs to update dictionary values for liquid handling parameters, input the target volume, density of the liquid and mass of vials before and after a dispense."
   ]
  },
  {
   "cell_type": "code",
   "execution_count": null,
   "metadata": {},
   "outputs": [],
   "source": [
    "liquid = 'Viscosity_std_1275'\n",
    "density = 0.8736\n",
    "pipette = 'p1000'\n",
    "volume = 1000\n",
    "liquid_level = 51\n"
   ]
  },
  {
   "cell_type": "markdown",
   "metadata": {},
   "source": [
    "If the experiment is the continutation of a previous initialization load the dataframe to record transfer parameters."
   ]
  },
  {
   "cell_type": "code",
   "execution_count": null,
   "metadata": {
    "scrolled": true
   },
   "outputs": [],
   "source": [
    "#Load dataframe\n",
    "df=pd.read_csv('')\n"
   ]
  },
  {
   "cell_type": "markdown",
   "metadata": {},
   "source": [
    "Update liquid handling parameters with suggestions from BO model"
   ]
  },
  {
   "cell_type": "code",
   "execution_count": null,
   "metadata": {},
   "outputs": [],
   "source": [
    "liquids_dict = {\n",
    "  liquid :{\n",
    "        \"p1000\": {\n",
    "            \"aspiration_rate\": 26.604085, \n",
    "            \"dispense_rate\": 4.049484,\n",
    "            \"blow_out_rate\" : 0, \n",
    "            \"delay_aspirate\" : 5, \n",
    "            \"delay_dispense\" : 5, \n",
    "            \"delay_blow_out\" : 0,\n",
    "            \"touch_tip_aspirate\": True, \n",
    "            \"touch_tip_dispense\" : False,\n",
    "            },\n",
    "\n",
    "        \"p300\": {\n",
    "            \"aspiration_rate\": 25 , \n",
    "            \"dispense_rate\": 12.5, \n",
    "            \"blow_out_rate\" : 0 , \n",
    "            \"delay_aspirate\" : 3, \n",
    "            \"delay_dispense\" : 3, \n",
    "            \"delay_blow_out\" : 0,\n",
    "            \"touch_tip_aspirate\": True, \n",
    "            \"touch_tip_dispense\" : False,\n",
    "        }\n",
    "    }\n",
    "\n",
    "}\n",
    "print(liquids_dict[liquid][pipette])"
   ]
  },
  {
   "cell_type": "markdown",
   "metadata": {},
   "source": [
    "Transfer viscous liquds, input pippette name (pipette), desired volume (volume) to be dispensed in ul, liquid dictonary key string (liquid), density (density) and initial vial mass (mi). The code will register the liquid handling parameters used into the dataframe  "
   ]
  },
  {
   "cell_type": "code",
   "execution_count": null,
   "metadata": {},
   "outputs": [],
   "source": [
    "volume = 300\n",
    "mi = mf\n",
    "if pipettes[pipette].has_tip == False:\n",
    "    pipettes[pipette].pick_up_tip()\n",
    "start = time.time()\n",
    "transfer_viscous_liquid(liquid, volume, source.wells_by_name()['A1'], source.wells_by_name()['A4'], pipettes[pipette], protocol, liquid_level-15, new_tip=False)\n",
    "pipettes[pipette].move_to(source.wells_by_name()['A1'].top())\n",
    "df = df.append(liquids_dict[liquid][pipette], ignore_index = True)\n",
    "finish = time.time()\n",
    "time_m = finish - start"
   ]
  },
  {
   "cell_type": "markdown",
   "metadata": {},
   "source": [
    " Input mass of vial after transfer (mf). Code will calculate the relative error of transfer"
   ]
  },
  {
   "cell_type": "code",
   "execution_count": null,
   "metadata": {},
   "outputs": [],
   "source": [
    "mf = 27.5176\n",
    "m = mf-mi\n",
    "error = (m-density*volume/1000)/(density*volume/1000)*100\n",
    "df.iloc[-1,-7] = time_m\n",
    "df.iloc[-1,2] = volume\n",
    "df.iloc[-1, 0] =  liquid\n",
    "df.iloc[-1, 1] = pipette\n",
    "df.iloc[-1,-8] = density\n",
    "df.iloc[-1,-6] = mi\n",
    "df.iloc[-1,-5] = mf\n",
    "df.iloc[-1, -4] = m\n",
    "df.iloc[-1,-3]= error\n"
   ]
  },
  {
   "cell_type": "code",
   "execution_count": null,
   "metadata": {
    "scrolled": true
   },
   "outputs": [],
   "source": [
    "#Update liquid level\n",
    "liquid_level = liquid_level - 2*(m/density)\n",
    "liquid_level"
   ]
  },
  {
   "cell_type": "code",
   "execution_count": null,
   "metadata": {
    "scrolled": false
   },
   "outputs": [],
   "source": [
    "#Observe error made\n",
    "df.iloc[-5:]"
   ]
  },
  {
   "cell_type": "code",
   "execution_count": null,
   "metadata": {},
   "outputs": [],
   "source": [
    "if -5<df.iloc[-1,-3]<5:\n",
    "    value = 'Within Tolerance'\n",
    "elif df.iloc[-1,-3]>5:\n",
    "    value = 'Excess Aspiration and Dispense'\n",
    "else:\n",
    "    value = 'Incomplete Aspiration and Dispense'\n",
    "    "
   ]
  },
  {
   "cell_type": "code",
   "execution_count": null,
   "metadata": {
    "scrolled": false
   },
   "outputs": [],
   "source": [
    "#Assign category of observation of transfer such as Incomplete Dispense, Incomplete Aspiration, \n",
    "#Incomplete Aspiration and Dispense, Excess aspiration and dispense, Within Tolerance. \n",
    "#Comment if any unexpected exprimental mistakes or changes were performed that have to be taken into account.\n",
    "df.iloc[-1,-2]= value\n",
    "df.iloc[-1,-1]= ''\n",
    "df.iloc[-5:]"
   ]
  },
  {
   "cell_type": "code",
   "execution_count": null,
   "metadata": {},
   "outputs": [],
   "source": [
    "for i in range(2):\n",
    "    \n",
    "    pipettes['p1000'].blow_out(location = source.wells_by_name()['A1'].top())\n",
    "\n",
    "    pipettes['p1000'].touch_tip(location = source.wells_by_name()['A1'])\n",
    "    pipettes['p1000'].home_plunger()\n",
    "    protocol.delay(seconds=10)\n",
    "\n",
    "    pipettes['p1000'].blow_out(location = source.wells_by_name()['A1'].top())\n",
    "    pipettes['p1000'].touch_tip(location = source.wells_by_name()['A1'])\n",
    "    pipettes['p1000'].home_plunger()\n",
    "    protocol.delay(seconds=10)\n",
    "\n",
    "    pipettes['p1000'].blow_out(location = source.wells_by_name()['A1'].top())\n",
    "    pipettes['p1000'].touch_tip(location = source.wells_by_name()['A1'])\n",
    "    pipettes['p1000'].home_plunger()\n",
    "    protocol.delay(seconds=10)\n",
    " "
   ]
  },
  {
   "cell_type": "markdown",
   "metadata": {},
   "source": [
    "Save data, can be used at any time."
   ]
  },
  {
   "cell_type": "code",
   "execution_count": null,
   "metadata": {},
   "outputs": [],
   "source": [
    "df.to_csv('BOTorch_optimization'+'_'+ 'exp3' +'_'+liquid+'_all_rawdata.csv', index = False)"
   ]
  },
  {
   "cell_type": "code",
   "execution_count": null,
   "metadata": {
    "scrolled": false
   },
   "outputs": [],
   "source": [
    "df.to_csv('liquid_4_selina_initialization.csv')\n"
   ]
  },
  {
   "cell_type": "markdown",
   "metadata": {},
   "source": [
    "## Auxiliary code"
   ]
  },
  {
   "cell_type": "code",
   "execution_count": null,
   "metadata": {},
   "outputs": [],
   "source": [
    "#Shut down sequence\n",
    "\n",
    "pipettes[pipette].drop_tip()\n",
    "\n",
    "protocol.home()"
   ]
  },
  {
   "cell_type": "code",
   "execution_count": null,
   "metadata": {},
   "outputs": [],
   "source": [
    "#Clean residue from pipette tip\n",
    "for i in range(2):\n",
    "\n",
    "    pipettes['p1000'].blow_out(location = source.wells_by_name()['A1'].top())\n",
    "    pipettes['p1000'].touch_tip(location = source.wells_by_name()['A1'])\n",
    "\n",
    "    pipettes['p1000'].home_plunger()\n",
    "    protocol.delay(seconds=10)\n",
    "    pipettes['p1000'].blow_out(location = source.wells_by_name()['A1'].top())\n",
    "    pipettes['p1000'].touch_tip(location = source.wells_by_name()['A1'])\n",
    "\n",
    "    pipettes['p1000'].home_plunger()\n",
    "    protocol.delay(seconds=10)\n",
    "    pipettes['p1000'].blow_out(location = source.wells_by_name()['A1'].top())\n",
    "    pipettes['p1000'].touch_tip(location = source.wells_by_name()['A1'])\n",
    "    pipettes['p1000'].move_to(source.wells_by_name()['A1'].top())\n"
   ]
  }
 ],
 "metadata": {
  "kernelspec": {
   "display_name": "Python 3",
   "language": "python",
   "name": "python3"
  },
  "language_info": {
   "codemirror_mode": {
    "name": "ipython",
    "version": 3
   },
   "file_extension": ".py",
   "mimetype": "text/x-python",
   "name": "python",
   "nbconvert_exporter": "python",
   "pygments_lexer": "ipython3",
   "version": "3.9.13"
  }
 },
 "nbformat": 4,
 "nbformat_minor": 2
}
