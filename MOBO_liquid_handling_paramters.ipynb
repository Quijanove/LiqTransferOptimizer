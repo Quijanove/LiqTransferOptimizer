{
 "cells": [
  {
   "cell_type": "markdown",
   "metadata": {},
   "source": [
    "# Optimization of liquid transfer paramters of viscous liquids guided by Baysesian Optimization\n",
    "\n",
    "## 1. Introduction\n",
    "\n",
    "This jupyter notebook contains the information required to perform Multi-Bayesian optimization (MOBO) of liquid handling parameters of pipetting robots according to the protocol described in **publication add link** . The notebook is divided in the following sections\n",
    "\n",
    "1. **Imports**: This section contains the relevant packages required to perform MOBO\n",
    "\n",
    "2. **Semi-automated implemntation**: This section contains the code to obtain  suggestions for liquid handling parameters where the robotic platform performing the transfers is controlled in a separte script. This is the method that was used in [(10.26434/chemrxiv-2023-cbkqh)](https://doi.org/10.26434/chemrxiv-2023-cbkqh) to optimize the liquid transfer parameters of a Opentrons OT2 robot.\n",
    "\n",
    "3. **Fully-automated implemetnation**: This section contains the code to obtain  suggestions for liquid handling parameters where the robotic platform performing the transfers is a rLine1000 Sartorious pipette coupled to a M1 Dobot Scara robotic arm controlled by control-lab-ly python package. This is the method that was used in [(10.26434/chemrxiv-2023-cbkqh)](https://doi.org/10.26434/chemrxiv-2023-cbkqh) to optimize the liquid transfer parameters of a rLine1000 pipette in the fully automated optimization experiments."
   ]
  },
  {
   "cell_type": "markdown",
   "metadata": {},
   "source": [
    "## 1. Imports"
   ]
  },
  {
   "cell_type": "code",
   "execution_count": null,
   "metadata": {},
   "outputs": [],
   "source": [
    "from BO_liquid_transfer import BO_LiqTransfer \n",
    "import time"
   ]
  },
  {
   "cell_type": "markdown",
   "metadata": {},
   "source": [
    "# 2. Semi-automated implemntation with OT2 platform\n",
    "\n",
    "The following cells serve as an example of how to implement a semi-automated MOBO of liquid transfer parameters using the BO_LiqTransfer class. This implementation is run in parallel with the script that is controlling the liquid transfer robot. In [(10.26434/chemrxiv-2023-cbkqh)](https://doi.org/10.26434/chemrxiv-2023-cbkqh) this was used in parallel with a jupyternotebook controlling a Opentrons OT2 robot (**script link**).\n",
    "\n",
    "The process for the MOBO is as follows\n",
    "\n",
    "1. Create BO_LiqTransfer object and load initial transfer data set. The initial transfer data set should be previously acquired through gravimetric testing of several combination of liquid handling parameters\n",
    "\n",
    "2. Run optimized_suggestions() method to obtain suggested liquid handling parameters by BO algorithm. This function first trains surrogate models that predict the optimization objective (default: relative error and time to aspirate 1000 µL) from predefined liquid handling parameter features (default: aspiration and dispense rates). After an acquisition function will be used to suggest new combination of liquid transfer parameters that will likely minimize the objectives. \n",
    "\n",
    "    After, input the optimized suggestions in the script controlling the liquid handling robot and perform gravimetric test.\n",
    "\n",
    "3. Update the the data with each volume tested\n",
    "\n",
    "4. Iterate steps 2 and 3 until optimal solutions are found. \n"
   ]
  },
  {
   "cell_type": "markdown",
   "metadata": {},
   "source": [
    "### 1. Create BO_LiqTransfer object and load initial trasnfer data set.\n",
    "\n",
    "Please set liquid name and volume to transfer according to the experiment and load initial transfer data"
   ]
  },
  {
   "cell_type": "code",
   "execution_count": null,
   "metadata": {},
   "outputs": [],
   "source": [
    "from BO_liquid_transfer import BO_LiqTransfer       # shared class\n",
    "\n",
    "# Change according to experiment\n",
    "liquid_name = 'Viscosity_std_1275' \n",
    "\n",
    "# Do not change\n",
    "liq = BO_LiqTransfer(liquid_name, pipette_brand='ot2')\n",
    "liq.data_from_csv('')\n",
    "liq._data"
   ]
  },
  {
   "cell_type": "markdown",
   "metadata": {},
   "source": [
    "\n",
    "### 2.  Run optimized_suggestions() method to obtain suggested liquid handling parameters by BO algorithm.\n",
    "\n"
   ]
  },
  {
   "cell_type": "code",
   "execution_count": null,
   "metadata": {},
   "outputs": [],
   "source": [
    "liq.optimized_suggestions()"
   ]
  },
  {
   "cell_type": "markdown",
   "metadata": {},
   "source": [
    "### 3. Update the the data with each volume tested"
   ]
  },
  {
   "cell_type": "code",
   "execution_count": null,
   "metadata": {},
   "outputs": [],
   "source": [
    "volume= 300\n",
    "last_measurement_data = liq.df_last_measurement(-0.840723, volume)\n",
    "liq.update_data(last_measurement_data)"
   ]
  },
  {
   "cell_type": "code",
   "execution_count": null,
   "metadata": {},
   "outputs": [],
   "source": [
    "#save after each standard-experiment iteration\n",
    "liq._data.to_csv(liquid_name+'_'+'duplicate_unused_exp3.csv', index = False) #Input path"
   ]
  },
  {
   "cell_type": "markdown",
   "metadata": {},
   "source": [
    "### 4. Iterate steps 2 and 3 until optimal solutions are found. "
   ]
  },
  {
   "cell_type": "markdown",
   "metadata": {},
   "source": [
    "## 3. Semi-automated implementation with in-house assembled platform\n",
    "\n",
    "The following cells serve as an example of how to implement a semi-automated MOBO of liquid transfer parameters using the BO_LiqTransfer class. In this implementation the initial approximation of the flow rate within the pipette tip is calculated using human vision.  In [(10.26434/chemrxiv-2023-cbkqh)](https://doi.org/10.26434/chemrxiv-2023-cbkqh) this was used to perform the multi-objective optimization of liquid handling parameters for the transport of viscous liquids with a rLine1000 automated pipette.\n",
    "\n",
    "\n",
    "The process for the MOBO is as follows\n",
    "\n",
    "1. Initialize robotic platform\n",
    "\n",
    "2. Create BO_LiqTransfer object by inputting liquid name and density. \n",
    "\n",
    "3. Obtain approximate flow rate\n",
    "\n",
    "4. Run exploreBoundaries(). To obtain initial data set that will be used for the optimization protocol,\n",
    "\n",
    "5. Run optimizeParameters()\n",
    "\n",
    "6. Run calibrateParameters()"
   ]
  },
  {
   "cell_type": "markdown",
   "metadata": {},
   "source": [
    "### 1. Initialize robotic platform\n",
    "\n",
    "\n",
    "For this example we use control-lab-ly python package to control an automated platform that consists of a automated mass balance, a Sartorious rLine1000 pipette, M1 DOBOT scara arm and a deck object containing the location of the labware used in the platform.\n",
    "\n",
    "\n",
    "A yaml file that defines all the automated equipment present in the platform is used to initialize and connect with the hardware, using the load_setup. This function returns an object that can be used to point to the objects that control each automated equipment. The objects controlling the hardware can be accessed from the *platform* variable as follows:\n",
    "\n",
    "- platform.setup: This variable points to the object controlling the robotic arm and automated pipette. This variable is used to execute the commands that require both a pipette and a robot arm (i.e. picking up a tip). It also can be used to point to the objects that control the independent functions of the robotic arm and the pipette using the following variables:\n",
    "\n",
    "    - platform.setup.mover: Variable pointing to the object that controls exclusively the robotic arm\n",
    "    - platform.setup.liquid: Object that controls exclusively the automated pipette\n",
    "\n",
    "- platform.balance: This variable points to the object controlling the automated mass balance\n",
    "\n"
   ]
  },
  {
   "cell_type": "code",
   "execution_count": null,
   "metadata": {},
   "outputs": [],
   "source": [
    "#Import robot related packages and run setup\n",
    "from pathlib import Path\n",
    "from controllably import load_setup     # pip install control-lab-ly\n",
    "\n",
    "HERE = str(Path().parent.absolute()).replace('\\\\', '/')\n",
    "\n",
    "\n",
    "platform = load_setup(config_file=f'{HERE}/config.yaml') # initialize objects to control automated setup\n",
    "platform.setup.mover.verbose = False \n",
    "\n",
    "\n",
    "    \n",
    "\n",
    "\n"
   ]
  },
  {
   "cell_type": "markdown",
   "metadata": {},
   "source": [
    "The compound object *platform.setup* can also hold the positional information of the labware placed in the deck of the platform by loading a json file that defines the coordinate position of each labware slot and the path to the json file containing the information of the spatial distribution of the \"wells\" of each of the labware. This operation is similar to loading labware into OT2 decks for reference ()."
   ]
  },
  {
   "cell_type": "code",
   "execution_count": null,
   "metadata": {},
   "outputs": [],
   "source": [
    "from controllably import load_deck\n",
    "\n",
    "load_deck(device=platform.setup, layout_file='layout.json') \n",
    "\n",
    "balance_deck = platform.setup.deck.slots['1'] #Variable that holds the positional information of the balance within the cartesian space of the deck \n",
    "source = platform.setup.deck.slots['2'] #Variable that holds the positional information of the labware containing the source of the test liquid within the cartesian space of the deck \n"
   ]
  },
  {
   "cell_type": "markdown",
   "metadata": {},
   "source": [
    "### 2. Create BO_LiqTransfer\n",
    "\n",
    "To initialize the BO_LiqTransfer object pass the following arguments:\n",
    "- liquid name : String that identifies the liquid that requires liquid handling parameter optimization \n",
    "- density : Value of the density of the target liquid in g/mL, this value will be required to calculate the transfer error during the gravimetric testing\n",
    "- platform : Variable that points to all the automated objects of the automated platform. This variable is required for the automated optimization of the liquid handling parameters using the methods defined in the BO_LiqTransfer() class"
   ]
  },
  {
   "cell_type": "code",
   "execution_count": null,
   "metadata": {},
   "outputs": [],
   "source": [
    "liq = BO_LiqTransfer(liquid_name = 'Viscous_std_204',density = 0.8736, platform = platform) "
   ]
  },
  {
   "cell_type": "markdown",
   "metadata": {},
   "source": [
    "### 3. Obtain target liquid approximate flow rate\n",
    "This contains the code to obtain an approximate flow rate value of the target viscous liquid within the pipette tip. the first cell executes an aspiration action at 5 mm below the surface of the viscous liquid. As the aspiration starts a timestamp is taken. The user will observe the upward movement of the viscous liquid into the pipette tip. Once the user has determined that the movement stopped, it runs the second cell where a second stamp time is taken. Then the time to aspirate 1000 µL is calculated and used to obtain an approximate flow rate. Finally the liquid will be returned to the source vial and a clean tip procedure will be performed to remove any excess liquid. "
   ]
  },
  {
   "cell_type": "code",
   "execution_count": null,
   "metadata": {},
   "outputs": [],
   "source": [
    "#This commands will aspirate 1000ul liquid at standard flow_rate.aspirate of pipette. A timer well be started just before aspiration starts\n",
    "liquid_level = 50\n",
    "\n",
    "platform.setup.mover.safeMoveTo(source.wells['A1'].from_bottom((0,0,liquid_level-5)))\n",
    "start = time.time()\n",
    "platform.setup.mover.liquid.aspirate(1000)"
   ]
  },
  {
   "cell_type": "code",
   "execution_count": null,
   "metadata": {},
   "outputs": [],
   "source": [
    "#Run this cell when no further flow of liquid into the pipette tip is observed. Calculates an approximate flow rate for \n",
    "#aspiration\n",
    "finish = time.time()\n",
    "t_aspirate = finish-start\n",
    "flow_rate_aspirate = 1000/t_aspirate\n",
    "flow_rate_aspirate\n",
    "\n",
    "liq.first_approximation = flow_rate_aspirate\n",
    "\n",
    "\n",
    "platform.setup.mover.safeMoveTo(source.wells['A1'].top)\n",
    "platform.setup.liquid.dispense(1000, speed = round(flow_rate_aspirate,flow_rate_aspirate))\n",
    "\n",
    "liq.cleanTip(well=source.wells['A1'])\n"
   ]
  },
  {
   "cell_type": "markdown",
   "metadata": {},
   "source": [
    "### 4. Run exploreBoundaries()\n",
    "\n",
    "This method contains the code that executes the actions to perform the gravimetric testing of liquid handling parameters that are found at the boundaries of the parametric space (i.e. values of maximum and minimum aspiration rate expected). The method required the following arguments to be passed:\n",
    "- initial_liquid_level_source : Initial height of the column of liquid in the vial that will be used as a source to draw for the transfer procedures.  \n",
    "- source_well : Object that contains the position of the vial in the platform deck.\n",
    "- balance_well : Object that contains the position of the vial on the balance in the platform deck.\n",
    "- file_name : File name to save DataFrame as a csv file containing the data form the gravimetric testing.\n",
    "\n",
    "\n",
    "The code performs the gravimetric test for the transfer of the target volumes using the following aspiration and dispense rates:\n",
    "1.  aspiration rate = Approximated flow rate , dispense rate = Approximated flow rate\n",
    "2.  aspiration rate = liq.bmax x Approximated flow rate , dispense rate = liq.bmax x Approximated flow rate\n",
    "3.  aspiration rate = liq.bmax x Approximated flow rate , dispense rate = liq.bmin x Approximated flow rate\n",
    "4.  aspiration rate = liq.bmin x Approximated flow rate , dispense rate = liq.bmax Approximated flow rate\n",
    "5.  aspiration rate = liq.bmin x Approximated flow rate , dispense rate = liq.bmin x Approximated flow rate\n",
    "\n",
    "Where liq.max = 1.25 and liq.min = 0.1 by default.\n",
    "\n",
    "The data gathered during this experiments will be used to train the initial GPR for the MOBO. \n"
   ]
  },
  {
   "cell_type": "code",
   "execution_count": null,
   "metadata": {},
   "outputs": [],
   "source": [
    "liq.exploreBoundaries(initial_liquid_level_source=42, source_well = source.wells['A1'], balance_well = balance_deck.wells['A1'])\n",
    "\n",
    "source_liquid_level = liq._data['liquid_level'].iloc[-1]"
   ]
  },
  {
   "cell_type": "markdown",
   "metadata": {},
   "source": [
    "### 5. Run optimizeParameters()\n",
    "This method contains the code that executes the actions to perform the gravimetric testing of liquid handling parameters suggested by the MOBO algorithm. The method required the following arguments to be passed:\n",
    "- initial_liquid_level_source : Initial height of the column of liquid in the vial that will be used as a source to draw for the transfer procedures.  \n",
    "- source_well : Object that contains the position of the vial in the platform deck.\n",
    "- balance_well : Object that contains the position of the vial on the balance in the platform deck.\n",
    "- iterations : Number of optimization iterations \n",
    "- file_name : File name to save DataFrame as a csv file containing the data form the gravimetric testing.\n",
    "\n"
   ]
  },
  {
   "cell_type": "code",
   "execution_count": null,
   "metadata": {},
   "outputs": [],
   "source": [
    "liq.optimize_parameters(initial_liquid_level_source = source_liquid_level, source_well = source.wells['A1'], balance_well = balance_deck.wells['A1'], iterations=5, file_name = 'Viscosity_std_204.csv')\n"
   ]
  },
  {
   "cell_type": "markdown",
   "metadata": {},
   "source": [
    "### 6. Run calibrateParameters()\n",
    "\n",
    "This method contains the code that executes the actions to perform 10 gravimetric tests per target volumes using the best liquid handling parameter combination found during the optimization step. This method requires the following arguments to be passed:\n",
    "\n",
    "- initial_liquid_level_source : Initial height of the column of liquid in the vial that will be used as a source to draw for the transfer procedures.  \n",
    "- source_well : Object that contains the position of the vial in the platform deck.\n",
    "- balance_well : Object that contains the position of the vial on the balance in the platform deck. \n",
    "- file_name : File name to save a DataFrame as a csv file contaning the data form the gravimetric testing and second file containing the summary of the statistics of the mass transfer.\n",
    "\n"
   ]
  },
  {
   "cell_type": "code",
   "execution_count": null,
   "metadata": {},
   "outputs": [],
   "source": [
    "liq.calibrate_parameters(46.5,source_well=source.wells['A1'],balance_well=balance_deck.wells['A1'],file_name='Viscosity_std_204_calibration.csv')"
   ]
  },
  {
   "cell_type": "markdown",
   "metadata": {},
   "source": [
    "## 4. Fully-automated implementation\n",
    "\n",
    "The following cells serve as an example of how to implement a fully-automated MOBO of liquid transfer parameters using the BO_LiqTransfer class. This implementation is run in parallel with the script that is controlling the liquid transfer robot. In [(10.26434/chemrxiv-2023-cbkqh)](https://doi.org/10.26434/chemrxiv-2023-cbkqh) this was used to perform the multi-objective optimization of liquid handling parameters for the transport of viscous liquids with minimal human input\n",
    "\n",
    "The process for the MOBO is as follows\n",
    "\n",
    "1. Initialize robotic platform\n",
    "2. Create BO_LiqTransfer object by inputting liquid name and density. \n",
    "\n",
    "3. Run obtainAproximateRate(). To calculate initial flow rate to be tested for the optimization protocol\n",
    "\n",
    "\n",
    "4. Run exploreBoundaries(). To obtain initial data set that will be used for the optimization protocol,\n",
    "\n",
    "5. Run optimizeParameters()\n",
    "\n",
    "6. Run calibrateParameters()\n",
    "\n",
    "Step 3 is the only difference from section 4, thus the explanation for those sections are not repeated."
   ]
  },
  {
   "cell_type": "markdown",
   "metadata": {},
   "source": [
    "### 1. Initialize robotic platform"
   ]
  },
  {
   "cell_type": "code",
   "execution_count": null,
   "metadata": {},
   "outputs": [],
   "source": [
    "#Import robot related packages and run setup\n",
    "from pathlib import Path\n",
    "from controllably import load_setup     # pip install control-lab-ly\n",
    "\n",
    "HERE = str(Path().parent.absolute()).replace('\\\\', '/')\n",
    "\n",
    "\n",
    "platform = load_setup(config_file=f'{HERE}/config.yaml') # initialize objects to control automated setup\n",
    "platform.setup.mover.verbose = False \n",
    "\n",
    "\n",
    "    \n",
    "from controllably import load_deck\n",
    "\n",
    "load_deck(device=platform.setup, layout_file='layout.json') \n",
    "\n",
    "balance_deck = platform.setup.deck.slots['1'] #Variable that holds the positional information of the balance within the cartesian space of the deck \n",
    "source = platform.setup.deck.slots['2'] #Variable that holds the positional information of the labware containing the source of the test liquid within the cartesian space of the deck \n",
    "\n"
   ]
  },
  {
   "cell_type": "markdown",
   "metadata": {},
   "source": [
    "### 2. Create BO_LiqTransfer\n"
   ]
  },
  {
   "cell_type": "code",
   "execution_count": null,
   "metadata": {},
   "outputs": [],
   "source": [
    "liq = BO_LiqTransfer(liquid_name = 'Viscous_std_204',density = 0.8736)\n",
    "liq.platform = platform.setup"
   ]
  },
  {
   "cell_type": "markdown",
   "metadata": {},
   "source": [
    "### 3. Run obtainAproximateRate()\n",
    "\n",
    "This method contains the code that executes the actions required to obtain an approximated value of the flow rate within the pipette tip during the aspiration of the target liquid. This value will be used as an starting point for the MOBO of the liquif handling parameters. The method required the following arguments to be passed:\n",
    "- initial_liquid_level_balance : Initial height of the column of liquid in the vial is located on the balance.  \n",
    "- balance_well : Object that contains the position of the vial on the balance in the platform deck..\n",
    "- file_name : File name to save DataFrame as a csv file containing the data form the change in mass of the vial during the estimation of the approximate flow rate.\n",
    "\n",
    "\n",
    "For further information refer to the protocol described in [(10.26434/chemrxiv-2023-cbkqh)](https://doi.org/10.26434/chemrxiv-2023-cbkqh)."
   ]
  },
  {
   "cell_type": "code",
   "execution_count": null,
   "metadata": {},
   "outputs": [],
   "source": [
    "liq.obtainAproximateRate(initial_liquid_level_balance=7.5, balance_well= balance_deck.wells['A1'],file_name='BPAEDMA_flow_rate.csv')\n",
    "liq.cleanTip(well=source.wells['A1'])"
   ]
  },
  {
   "cell_type": "markdown",
   "metadata": {},
   "source": [
    "### 4. Run exploreBoundaries()"
   ]
  },
  {
   "cell_type": "code",
   "execution_count": null,
   "metadata": {},
   "outputs": [],
   "source": [
    "liq.exploreBoundaries(initial_liquid_level_source=42, source_well = source.wells['A1'], balance_well = balance_deck.wells['A1'])\n",
    "\n",
    "source_liquid_level = liq._data['liquid_level'].iloc[-1]"
   ]
  },
  {
   "cell_type": "markdown",
   "metadata": {},
   "source": [
    "### 5. Run optimizeParameters()\n",
    "\n"
   ]
  },
  {
   "cell_type": "code",
   "execution_count": null,
   "metadata": {},
   "outputs": [],
   "source": [
    "liq.optimize_parameters(initial_liquid_level_source = source_liquid_level, source_well = source.wells['A1'], balance_well = balance_deck.wells['A1'], iterations=5, file_name = 'Viscosity_std_204.csv')\n"
   ]
  },
  {
   "cell_type": "markdown",
   "metadata": {},
   "source": [
    "### 6. Run calibrateParameters()"
   ]
  },
  {
   "cell_type": "code",
   "execution_count": null,
   "metadata": {},
   "outputs": [],
   "source": [
    "liq.calibrate_parameters(46.5,source_well=source.wells['A1'],balance_well=balance_deck.wells['A1'],file_name='Viscosity_std_204_calibration.csv')"
   ]
  }
 ],
 "metadata": {
  "kernelspec": {
   "display_name": "Python 3",
   "language": "python",
   "name": "python3"
  },
  "language_info": {
   "codemirror_mode": {
    "name": "ipython",
    "version": 3
   },
   "file_extension": ".py",
   "mimetype": "text/x-python",
   "name": "python",
   "nbconvert_exporter": "python",
   "pygments_lexer": "ipython3",
   "version": "3.9.13"
  }
 },
 "nbformat": 4,
 "nbformat_minor": 2
}
